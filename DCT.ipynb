{
 "cells": [
  {
   "cell_type": "code",
   "execution_count": 15,
   "metadata": {},
   "outputs": [],
   "source": [
    "import numpy as np\n",
    "import cv2\n",
    "from matplotlib import pyplot as plt\n",
    "from PIL import Image\n",
    "\n",
    "if __name__ == \"__main__\":\n",
    "    img = cv2.imread('face.jpg', 0)\n",
    "    # img = cv2.cvtColor(img, cv2.COLOR_BGR2GRAY)\n",
    "\n",
    "    img = cv2.resize(img, (299,299))\n",
    "    img_float = np.float32(img)\n",
    "    dct = cv2.dct(img_float)\n",
    "\n",
    "    cv2.imshow('dct', dct)\n",
    "\n",
    "\n",
    "    key = cv2.waitKey(0)\n",
    "    if key == 27:  #如果按esc键,则停止\n",
    "        cv2.destroyAllWindows()"
   ]
  },
  {
   "cell_type": "code",
   "execution_count": 19,
   "metadata": {},
   "outputs": [],
   "source": [
    "import numpy as np\n",
    "import matplotlib.pyplot as plt\n",
    "import cv2\n",
    "\n",
    "\n",
    "#图像尺寸size*size\n",
    "size = 299\n",
    "\n",
    "# utils\n",
    "def DCT_mat(size):\n",
    "    m = [[ np.sqrt(1./size) if i == 0 else np.sqrt(2./size) * np.cos((j + 0.5) * np.pi * i / size) for j in range(size)] for i in range(size)]\n",
    "    return m\n",
    "def generate_filter(start, end, size):  #产生一个二维矩阵,宽和高都为size,且所包含元素要么为0.0要么为1.0\n",
    "    return [[0. if i + j > end or i + j < start else 1. for j in range(size)] for i in range(size)]\n",
    "\n",
    "# generator mask\n",
    "low = generate_filter(0,size // 2.82, size)\n",
    "middle = generate_filter(size // 2.82, size // 2, size)\n",
    "high = generate_filter(size // 2, size * 2, size)\n",
    "\n",
    "#DCT Matrix\n",
    "DCT_all = np.array(DCT_mat(size))\n",
    "DCT_all_T = DCT_all.T\n",
    "\n",
    "img = cv2.imread('face.jpg', 0)\n",
    "img1 = img.astype('float')\n",
    "img1 = cv2.resize(img1, (size,size))\n",
    "\n",
    "dct = np.dot(DCT_all, img1)\n",
    "dct = np.dot(dct, DCT_all_T)\n",
    "\n",
    "dct_show = 20 * np.log(abs(dct))\n",
    "\n",
    "cv2.imshow('img1', img1.astype(np.uint8))\n",
    "cv2.imshow('dct_show', dct_show.astype(np.uint8))\n",
    "key = cv2.waitKey(0)\n",
    "if key == 27:  #如果按esc键,则停止\n",
    "    cv2.destroyAllWindows()\n",
    "\n",
    "# plt.subplot(121)\n",
    "# plt.xticks([]), plt.yticks([])\n",
    "# plt.title('original image')\n",
    "# plt.imshow(img1, 'gray')\n",
    "\n",
    "# plt.subplot(122)\n",
    "# plt.xticks([]), plt.yticks([])\n",
    "# plt.title('dct image')\n",
    "# plt.imshow(dct, 'gray')\n",
    "\n",
    "\n",
    "plt.show()\n",
    "\n",
    "\n",
    "\n",
    "pass"
   ]
  },
  {
   "attachments": {},
   "cell_type": "markdown",
   "metadata": {},
   "source": [
    "## DCT basis functions的可视化\n",
    "\n",
    "refer to \"https://github.com/btlorch/dct-coefficient-decoder/blob/master/discrete_cosine_transform_visual_explanation.ipynb\""
   ]
  },
  {
   "attachments": {},
   "cell_type": "markdown",
   "metadata": {},
   "source": [
    "**(1)DCT变换公式:**\n",
    "$$\n",
    "F(i, j) = \\alpha(i) \\alpha(j) \\sum\\limits_{x=0}^{N-1} \\sum\\limits_{y=0}^{N-1} f(x, y) \\cos\\left(\\frac{\\pi (2x + 1) i}{2N}\\right) \\cos\\left(\\frac{\\pi (2y + 1) j}{2N}\\right)\n",
    "$$\n",
    "i, j = 0, 1, 2, ..., N-1\n",
    "\n",
    "**(2)IDCT变换:**\n",
    "$$\n",
    "f(x, y) = \\sum\\limits_{i=0}^{N-1} \\sum\\limits_{j=0}^{N-1} \\alpha(i) \\alpha(j) F(i, j) \\cos\\left(\\frac{\\pi(2x + 1)i}{2N}\\right) \\cos\\left(\\frac{\\pi (2y + 1) j}{2N}\\right)\n",
    "$$\n",
    "x, y = 0, 1, 2, ..., N-1"
   ]
  },
  {
   "cell_type": "code",
   "execution_count": 11,
   "metadata": {},
   "outputs": [],
   "source": [
    "import numpy as np\n",
    "\n",
    "def dct_2d_basis_functions(N):\n",
    "    base_funcs = np.zeros((N, N, N, N))\n",
    "    \n",
    "    for j in range(N):\n",
    "        for i in range(N):\n",
    "            alpha_i = np.sqrt(1/N) if i == 0 else np.sqrt(2/N)\n",
    "            alpha_j = np.sqrt(1/N) if j == 0 else np.sqrt(2/N)\n",
    "            \n",
    "            for y in range(N):\n",
    "                for x in range(N):\n",
    "                    base_funcs[j, i, y, x] = alpha_i * alpha_j * np.cos((np.pi * (2 * x + 1) * i)/(2 * N)) * np.cos((np.pi * (2 * y + 1) * j) / (2 * N))\n",
    "                    \n",
    "    return base_funcs"
   ]
  },
  {
   "cell_type": "code",
   "execution_count": 14,
   "metadata": {},
   "outputs": [
    {
     "data": {
      "image/png": "[encoded data removed]",
      "text/plain": [
       "<Figure size 800x800 with 64 Axes>"
      ]
     },
     "metadata": {},
     "output_type": "display_data"
    }
   ],
   "source": [
    "#可视化\n",
    "%matplotlib inline\n",
    "import matplotlib.pyplot as plt\n",
    "\n",
    "\n",
    "waveforms_2d = dct_2d_basis_functions(8)\n",
    "\n",
    "fig, axes = plt.subplots(nrows=8, ncols=8, figsize=(8, 8))\n",
    "for j in range(8):\n",
    "    for i in range(8):\n",
    "        axes[j, i].imshow(waveforms_2d[j, i], vmin=waveforms_2d.min(), vmax=waveforms_2d.max(), cmap='gray')\n",
    "        axes[j, i].axis('off')\n",
    "        \n",
    "fig.tight_layout()\n",
    "fig.subplots_adjust(wspace=0.1, hspace=0.1)\n",
    "# fig.show()"
   ]
  }
 ],
 "metadata": {
  "kernelspec": {
   "display_name": "Python 3.10.6 ('torch1.12.1_cpu')",
   "language": "python",
   "name": "python3"
  },
  "language_info": {
   "codemirror_mode": {
    "name": "ipython",
    "version": 3
   },
   "file_extension": ".py",
   "mimetype": "text/x-python",
   "name": "python",
   "nbconvert_exporter": "python",
   "pygments_lexer": "ipython3",
   "version": "3.8.13"
  },
  "orig_nbformat": 4,
  "vscode": {
   "interpreter": {
    "hash": "9d5507be2d68268e91a6210239d2d464aff060d46d83db9432adefda4622ecf0"
   }
  }
 },
 "nbformat": 4,
 "nbformat_minor": 2
}
