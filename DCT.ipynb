{
 "cells": [
  {
   "cell_type": "code",
   "execution_count": 15,
   "metadata": {},
   "outputs": [],
   "source": [
    "import numpy as np\n",
    "import cv2\n",
    "from matplotlib import pyplot as plt\n",
    "from PIL import Image\n",
    "\n",
    "if __name__ == \"__main__\":\n",
    "    img = cv2.imread('face.jpg', 0)\n",
    "    # img = cv2.cvtColor(img, cv2.COLOR_BGR2GRAY)\n",
    "\n",
    "    img = cv2.resize(img, (299,299))\n",
    "    img_float = np.float32(img)\n",
    "    dct = cv2.dct(img_float)\n",
    "\n",
    "    cv2.imshow('dct', dct)\n",
    "\n",
    "\n",
    "    key = cv2.waitKey(0)\n",
    "    if key == 27:  #如果按esc键,则停止\n",
    "        cv2.destroyAllWindows()"
   ]
  },
  {
   "cell_type": "code",
   "execution_count": 19,
   "metadata": {},
   "outputs": [],
   "source": [
    "import numpy as np\n",
    "import matplotlib.pyplot as plt\n",
    "import cv2\n",
    "\n",
    "\n",
    "#图像尺寸size*size\n",
    "size = 299\n",
    "\n",
    "# utils\n",
    "def DCT_mat(size):\n",
    "    m = [[ np.sqrt(1./size) if i == 0 else np.sqrt(2./size) * np.cos((j + 0.5) * np.pi * i / size) for j in range(size)] for i in range(size)]\n",
    "    return m\n",
    "def generate_filter(start, end, size):  #产生一个二维矩阵,宽和高都为size,且所包含元素要么为0.0要么为1.0\n",
    "    return [[0. if i + j > end or i + j < start else 1. for j in range(size)] for i in range(size)]\n",
    "\n",
    "# generator mask\n",
    "low = generate_filter(0,size // 2.82, size)\n",
    "middle = generate_filter(size // 2.82, size // 2, size)\n",
    "high = generate_filter(size // 2, size * 2, size)\n",
    "\n",
    "#DCT Matrix\n",
    "DCT_all = np.array(DCT_mat(size))\n",
    "DCT_all_T = DCT_all.T\n",
    "\n",
    "img = cv2.imread('face.jpg', 0)\n",
    "img1 = img.astype('float')\n",
    "img1 = cv2.resize(img1, (size,size))\n",
    "\n",
    "dct = np.dot(DCT_all, img1)\n",
    "dct = np.dot(dct, DCT_all_T)\n",
    "\n",
    "dct_show = 20 * np.log(abs(dct))\n",
    "\n",
    "cv2.imshow('img1', img1.astype(np.uint8))\n",
    "cv2.imshow('dct_show', dct_show.astype(np.uint8))\n",
    "key = cv2.waitKey(0)\n",
    "if key == 27:  #如果按esc键,则停止\n",
    "    cv2.destroyAllWindows()\n",
    "\n",
    "# plt.subplot(121)\n",
    "# plt.xticks([]), plt.yticks([])\n",
    "# plt.title('original image')\n",
    "# plt.imshow(img1, 'gray')\n",
    "\n",
    "# plt.subplot(122)\n",
    "# plt.xticks([]), plt.yticks([])\n",
    "# plt.title('dct image')\n",
    "# plt.imshow(dct, 'gray')\n",
    "\n",
    "\n",
    "plt.show()\n",
    "\n",
    "\n",
    "\n",
    "pass"
   ]
  }
 ],
 "metadata": {
  "kernelspec": {
   "display_name": "Python 3.10.6 ('torch1.12.1_cpu')",
   "language": "python",
   "name": "python3"
  },
  "language_info": {
   "codemirror_mode": {
    "name": "ipython",
    "version": 3
   },
   "file_extension": ".py",
   "mimetype": "text/x-python",
   "name": "python",
   "nbconvert_exporter": "python",
   "pygments_lexer": "ipython3",
   "version": "3.10.6"
  },
  "orig_nbformat": 4,
  "vscode": {
   "interpreter": {
    "hash": "9d5507be2d68268e91a6210239d2d464aff060d46d83db9432adefda4622ecf0"
   }
  }
 },
 "nbformat": 4,
 "nbformat_minor": 2
}
