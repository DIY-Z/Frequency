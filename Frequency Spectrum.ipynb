{
 "cells": [
  {
   "cell_type": "markdown",
   "metadata": {},
   "source": [
    "DCT"
   ]
  },
  {
   "cell_type": "code",
   "execution_count": 36,
   "metadata": {},
   "outputs": [],
   "source": [
    "import numpy as np\n",
    "import cv2\n",
    "import torch\n",
    "from torchvision import transforms as trans \n",
    "\n",
    "size = 299\n",
    "\n",
    "# utils\n",
    "def DCT_mat(size):\n",
    "    m = [[ (np.sqrt(1./size) if i == 0 else np.sqrt(2./size)) * np.cos((j + 0.5) * np.pi * i / size) for j in range(size)] for i in range(size)]\n",
    "    return m\n",
    "def generate_filter(start, end, size):  #产生一个二维矩阵,宽和高都为size,且所包含元素要么为0.0要么为1.0\n",
    "    return [[0. if i + j > end or i + j < start else 1. for j in range(size)] for i in range(size)]\n",
    "\n",
    "#DCT Matrix\n",
    "DCT_all = torch.tensor(DCT_mat(size)).float()\n",
    "DCT_all_T = torch.transpose(torch.tensor(DCT_mat(size)).float(), 0, 1)\n",
    "\n",
    "\n",
    "# img_NT_c23 = cv2.imread('./c23_test_NT_000_003_frame0.jpg')\n",
    "# img_NT_c40 = cv2.imread('./c40_test_NT_000_003_frame0.jpg')\n",
    "\n",
    "# img_NT_c23 = cv2.imread('./c23_test_DF_000_003_frame0.jpg')\n",
    "# img_NT_c40 = cv2.imread('./c40_test_DF_000_003_frame0.jpg')\n",
    "\n",
    "# img_NT_c23 = cv2.imread('./c23_test_f2f_000_003_frame0.jpg')\n",
    "# img_NT_c40 = cv2.imread('./c40_test_f2f_000_003_frame0.jpg')\n",
    "\n",
    "img_NT_c23 = cv2.imread('./c23_test_FS_000_003_frame0.jpg')\n",
    "img_NT_c40 = cv2.imread('./c40_test_FS_000_003_frame0.jpg')\n",
    "\n",
    "img_NT_c23 = cv2.resize(img_NT_c23, (size, size))\n",
    "img_NT_c40 = cv2.resize(img_NT_c40, (size, size))\n",
    "\n",
    "trans_to_tensor = trans.ToTensor()\n",
    "\n",
    "img_NT_c23_tensor = trans_to_tensor(img_NT_c23)  #torch.Size([3, 299, 299])\n",
    "img_NT_c40_tensor = trans_to_tensor(img_NT_c40)  #torch.Size([3, 299, 299])\n",
    "\n",
    "#DCT变换\n",
    "img_NT_c23_dct_tensor = DCT_all @ img_NT_c23_tensor @ DCT_all_T\n",
    "img_NT_c40_dct_tensor = DCT_all @ img_NT_c40_tensor @ DCT_all_T \n",
    "\n",
    "#IDCT\n",
    "img_NT_c23_idct_tensor = DCT_all_T @ img_NT_c23_dct_tensor @ DCT_all\n",
    "img_NT_c40_idct_tensor = DCT_all_T @ img_NT_c40_dct_tensor @ DCT_all\n",
    "\n",
    "img_NT_c23_dct = np.moveaxis(img_NT_c23_dct_tensor.numpy(), 0, -1)\n",
    "img_NT_c40_dct = np.moveaxis(img_NT_c40_dct_tensor.numpy(), 0, -1)\n",
    "\n",
    "img_NT_c23_idct = np.moveaxis(img_NT_c23_idct_tensor.numpy(), 0, -1)\n",
    "img_NT_c40_idct = np.moveaxis(img_NT_c40_idct_tensor.numpy(), 0, -1)\n",
    "\n",
    "\n",
    "\n",
    "cv2.imshow('img_c23', img_NT_c23)\n",
    "cv2.imshow('img_c40', img_NT_c40)\n",
    "cv2.imshow('dct_c23', img_NT_c23_dct)\n",
    "cv2.imshow('dct_c40', img_NT_c40_dct)\n",
    "# cv2.imshow('idct_c23', img_NT_c23_idct)\n",
    "# cv2.imshow('idct_c40', img_NT_c40_idct)\n",
    "\n",
    "while(cv2.waitKey(0) == 27):\n",
    "    cv2.destroyAllWindows()\n",
    "    break"
   ]
  }
 ],
 "metadata": {
  "kernelspec": {
   "display_name": "Python 3.10.6 ('torch1.12.1_cpu')",
   "language": "python",
   "name": "python3"
  },
  "language_info": {
   "codemirror_mode": {
    "name": "ipython",
    "version": 3
   },
   "file_extension": ".py",
   "mimetype": "text/x-python",
   "name": "python",
   "nbconvert_exporter": "python",
   "pygments_lexer": "ipython3",
   "version": "3.10.6"
  },
  "orig_nbformat": 4,
  "vscode": {
   "interpreter": {
    "hash": "9d5507be2d68268e91a6210239d2d464aff060d46d83db9432adefda4622ecf0"
   }
  }
 },
 "nbformat": 4,
 "nbformat_minor": 2
}
